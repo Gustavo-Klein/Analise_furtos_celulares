{
  "nbformat": 4,
  "nbformat_minor": 0,
  "metadata": {
    "colab": {
      "provenance": []
    },
    "kernelspec": {
      "name": "python3",
      "display_name": "Python 3"
    },
    "language_info": {
      "name": "python"
    }
  },
  "cells": [
    {
      "cell_type": "markdown",
      "source": [
        "#Carregando bibliotecas\n"
      ],
      "metadata": {
        "id": "ZZC3QPdwrTdo"
      }
    },
    {
      "cell_type": "code",
      "source": [
        "import pandas as pd\n",
        "import numpy as np\n",
        "import seaborn as sns\n",
        "import matplotlib.pyplot as plt\n",
        "\n"
      ],
      "metadata": {
        "id": "vaXQIcYVrX0d"
      },
      "execution_count": null,
      "outputs": []
    },
    {
      "cell_type": "markdown",
      "source": [
        "#Carregando dados\n"
      ],
      "metadata": {
        "id": "63WwKsJW0viu"
      }
    },
    {
      "cell_type": "code",
      "source": [
        "df = pd.read_excel('/content/celularessubtraidos.xlsx', dtype={'CEP': str})"
      ],
      "metadata": {
        "id": "gDwxXUY90yYK"
      },
      "execution_count": null,
      "outputs": []
    },
    {
      "cell_type": "markdown",
      "source": [
        "#Limpeza de dados"
      ],
      "metadata": {
        "id": "DQZYZ_v608gL"
      }
    },
    {
      "cell_type": "code",
      "source": [
        "# Preencher coluna CEP com zeros a esquerda até completar os 8 digitos\n",
        "df['CEP'] = df['CEP'].str.zfill(8)"
      ],
      "metadata": {
        "id": "cMbTPgMHOyPj"
      },
      "execution_count": null,
      "outputs": []
    },
    {
      "cell_type": "code",
      "source": [
        "#Informações gerais sobre os dados (Colunas e tipos de dados)\n",
        "df.info()"
      ],
      "metadata": {
        "colab": {
          "base_uri": "https://localhost:8080/"
        },
        "id": "C_98Gr-F1AXx",
        "outputId": "305388bb-06c9-4fb5-af06-62516c29ef7f"
      },
      "execution_count": null,
      "outputs": [
        {
          "output_type": "stream",
          "name": "stdout",
          "text": [
            "<class 'pandas.core.frame.DataFrame'>\n",
            "RangeIndex: 266333 entries, 0 to 266332\n",
            "Data columns (total 51 columns):\n",
            " #   Column                  Non-Null Count   Dtype         \n",
            "---  ------                  --------------   -----         \n",
            " 0   ID_DELEGACIA            266333 non-null  int64         \n",
            " 1   NOME_DEPARTAMENTO       266333 non-null  object        \n",
            " 2   NOME_SECCIONAL          266333 non-null  object        \n",
            " 3   NOME_DELEGACIA          266333 non-null  object        \n",
            " 4   NOME_MUNICIPIO          266333 non-null  object        \n",
            " 5   ANO_BO                  266333 non-null  int64         \n",
            " 6   NUM_BO                  266333 non-null  object        \n",
            " 7   VERSAO                  266333 non-null  int64         \n",
            " 8   NOME_DEPARTAMENTO_CIRC  266333 non-null  object        \n",
            " 9   NOME_SECCIONAL_CIRC     266333 non-null  object        \n",
            " 10  NOME_DELEGACIA_CIRC     266333 non-null  object        \n",
            " 11  NOME_MUNICIPIO_CIRC     266333 non-null  object        \n",
            " 12  DATA_OCORRENCIA_BO      266333 non-null  datetime64[ns]\n",
            " 13  HORA_OCORRENCIA         149416 non-null  object        \n",
            " 14  DESCRICAO_APRESENTACAO  266333 non-null  object        \n",
            " 15  DATAHORA_REGISTRO_BO    266333 non-null  datetime64[ns]\n",
            " 16  DATA_COMUNICACAO_BO     266333 non-null  datetime64[ns]\n",
            " 17  DATAHORA_IMPRESSAO_BO   266196 non-null  datetime64[ns]\n",
            " 18  DESCR_PERIODO           116917 non-null  object        \n",
            " 19  AUTORIA_BO              266333 non-null  object        \n",
            " 20  FLAG_INTOLERANCIA       266333 non-null  object        \n",
            " 21  TIPO_INTOLERANCIA       15 non-null      object        \n",
            " 22  FLAG_FLAGRANTE          266333 non-null  object        \n",
            " 23  FLAG_STATUS             266333 non-null  object        \n",
            " 24  DESC_LEI                266333 non-null  object        \n",
            " 25  FLAG_ATO_INFRACIONAL    266333 non-null  object        \n",
            " 26  RUBRICA                 266333 non-null  object        \n",
            " 27  DESCR_CONDUTA           219782 non-null  object        \n",
            " 28  DESDOBRAMENTO           7519 non-null    object        \n",
            " 29  CIRCUNSTANCIA           50413 non-null   object        \n",
            " 30  DESCR_TIPOLOCAL         258587 non-null  object        \n",
            " 31  DESCR_SUBTIPOLOCAL      261475 non-null  object        \n",
            " 32  CIDADE                  266333 non-null  object        \n",
            " 33  BAIRRO                  263640 non-null  object        \n",
            " 34  CEP                     238256 non-null  object        \n",
            " 35  LOGRADOURO_VERSAO       266333 non-null  int64         \n",
            " 36  LOGRADOURO              266333 non-null  object        \n",
            " 37  NUMERO_LOGRADOURO       248439 non-null  float64       \n",
            " 38  LATITUDE                230475 non-null  float64       \n",
            " 39  LONGITUDE               230475 non-null  float64       \n",
            " 40  CONT_OBJETO             266333 non-null  int64         \n",
            " 41  DESCR_MODO_OBJETO       266333 non-null  object        \n",
            " 42  DESCR_TIPO_OBJETO       266333 non-null  object        \n",
            " 43  DESCR_SUBTIPO_OBJETO    266333 non-null  object        \n",
            " 44  DESCR_UNIDADE           101359 non-null  object        \n",
            " 45  QUANTIDADE_OBJETO       266333 non-null  int64         \n",
            " 46  MARCA_OBJETO            266330 non-null  object        \n",
            " 47  FLAG_BLOQUEIO           247120 non-null  object        \n",
            " 48  FLAG_DESBLOQUEIO        247120 non-null  object        \n",
            " 49  MES                     266333 non-null  int64         \n",
            " 50  ANO                     266333 non-null  int64         \n",
            "dtypes: datetime64[ns](4), float64(3), int64(8), object(36)\n",
            "memory usage: 103.6+ MB\n"
          ]
        }
      ]
    },
    {
      "cell_type": "code",
      "source": [
        "#Verificação de valores nulos\n",
        "valores_nulos = df.isnull().sum()\n",
        "print(valores_nulos)"
      ],
      "metadata": {
        "colab": {
          "base_uri": "https://localhost:8080/"
        },
        "id": "zaGx4HII3LTf",
        "outputId": "acc9d068-50a1-4918-81a8-35f15c67e3df"
      },
      "execution_count": null,
      "outputs": [
        {
          "output_type": "stream",
          "name": "stdout",
          "text": [
            "ID_DELEGACIA                   0\n",
            "NOME_DEPARTAMENTO              0\n",
            "NOME_SECCIONAL                 0\n",
            "NOME_DELEGACIA                 0\n",
            "NOME_MUNICIPIO                 0\n",
            "ANO_BO                         0\n",
            "NUM_BO                         0\n",
            "VERSAO                         0\n",
            "NOME_DEPARTAMENTO_CIRC         0\n",
            "NOME_SECCIONAL_CIRC            0\n",
            "NOME_DELEGACIA_CIRC            0\n",
            "NOME_MUNICIPIO_CIRC            0\n",
            "DATA_OCORRENCIA_BO             0\n",
            "HORA_OCORRENCIA           116917\n",
            "DESCRICAO_APRESENTACAO         0\n",
            "DATAHORA_REGISTRO_BO           0\n",
            "DATA_COMUNICACAO_BO            0\n",
            "DATAHORA_IMPRESSAO_BO        137\n",
            "DESCR_PERIODO             149416\n",
            "AUTORIA_BO                     0\n",
            "FLAG_INTOLERANCIA              0\n",
            "TIPO_INTOLERANCIA         266318\n",
            "FLAG_FLAGRANTE                 0\n",
            "FLAG_STATUS                    0\n",
            "DESC_LEI                       0\n",
            "FLAG_ATO_INFRACIONAL           0\n",
            "RUBRICA                        0\n",
            "DESCR_CONDUTA              46551\n",
            "DESDOBRAMENTO             258814\n",
            "CIRCUNSTANCIA             215920\n",
            "DESCR_TIPOLOCAL             7746\n",
            "DESCR_SUBTIPOLOCAL          4858\n",
            "CIDADE                         0\n",
            "BAIRRO                      2693\n",
            "CEP                        28077\n",
            "LOGRADOURO_VERSAO              0\n",
            "LOGRADOURO                     0\n",
            "NUMERO_LOGRADOURO          17894\n",
            "LATITUDE                   35858\n",
            "LONGITUDE                  35858\n",
            "CONT_OBJETO                    0\n",
            "DESCR_MODO_OBJETO              0\n",
            "DESCR_TIPO_OBJETO              0\n",
            "DESCR_SUBTIPO_OBJETO           0\n",
            "DESCR_UNIDADE             164974\n",
            "QUANTIDADE_OBJETO              0\n",
            "MARCA_OBJETO                   3\n",
            "FLAG_BLOQUEIO              19213\n",
            "FLAG_DESBLOQUEIO           19213\n",
            "MES                            0\n",
            "ANO                            0\n",
            "dtype: int64\n"
          ]
        }
      ]
    },
    {
      "cell_type": "code",
      "source": [
        "#Verificação de valores nulos em percentual\n",
        "valores_nulos_percentual = (df.isnull().sum() / len(df)) * 100\n",
        "print(valores_nulos_percentual)"
      ],
      "metadata": {
        "colab": {
          "base_uri": "https://localhost:8080/"
        },
        "id": "3Djalep35-i6",
        "outputId": "696e8d97-7ab3-48ee-b069-dfb43a9dd345"
      },
      "execution_count": null,
      "outputs": [
        {
          "output_type": "stream",
          "name": "stdout",
          "text": [
            "ID_DELEGACIA               0.000000\n",
            "NOME_DEPARTAMENTO          0.000000\n",
            "NOME_SECCIONAL             0.000000\n",
            "NOME_DELEGACIA             0.000000\n",
            "NOME_MUNICIPIO             0.000000\n",
            "ANO_BO                     0.000000\n",
            "NUM_BO                     0.000000\n",
            "VERSAO                     0.000000\n",
            "NOME_DEPARTAMENTO_CIRC     0.000000\n",
            "NOME_SECCIONAL_CIRC        0.000000\n",
            "NOME_DELEGACIA_CIRC        0.000000\n",
            "NOME_MUNICIPIO_CIRC        0.000000\n",
            "DATA_OCORRENCIA_BO         0.000000\n",
            "HORA_OCORRENCIA           43.898803\n",
            "DESCRICAO_APRESENTACAO     0.000000\n",
            "DATAHORA_REGISTRO_BO       0.000000\n",
            "DATA_COMUNICACAO_BO        0.000000\n",
            "DATAHORA_IMPRESSAO_BO      0.051439\n",
            "DESCR_PERIODO             56.101197\n",
            "AUTORIA_BO                 0.000000\n",
            "FLAG_INTOLERANCIA          0.000000\n",
            "TIPO_INTOLERANCIA         99.994368\n",
            "FLAG_FLAGRANTE             0.000000\n",
            "FLAG_STATUS                0.000000\n",
            "DESC_LEI                   0.000000\n",
            "FLAG_ATO_INFRACIONAL       0.000000\n",
            "RUBRICA                    0.000000\n",
            "DESCR_CONDUTA             17.478495\n",
            "DESDOBRAMENTO             97.176843\n",
            "CIRCUNSTANCIA             81.071441\n",
            "DESCR_TIPOLOCAL            2.908389\n",
            "DESCR_SUBTIPOLOCAL         1.824032\n",
            "CIDADE                     0.000000\n",
            "BAIRRO                     1.011140\n",
            "CEP                       10.542066\n",
            "LOGRADOURO_VERSAO          0.000000\n",
            "LOGRADOURO                 0.000000\n",
            "NUMERO_LOGRADOURO          6.718657\n",
            "LATITUDE                  13.463596\n",
            "LONGITUDE                 13.463596\n",
            "CONT_OBJETO                0.000000\n",
            "DESCR_MODO_OBJETO          0.000000\n",
            "DESCR_TIPO_OBJETO          0.000000\n",
            "DESCR_SUBTIPO_OBJETO       0.000000\n",
            "DESCR_UNIDADE             61.942756\n",
            "QUANTIDADE_OBJETO          0.000000\n",
            "MARCA_OBJETO               0.001126\n",
            "FLAG_BLOQUEIO              7.213901\n",
            "FLAG_DESBLOQUEIO           7.213901\n",
            "MES                        0.000000\n",
            "ANO                        0.000000\n",
            "dtype: float64\n"
          ]
        }
      ]
    },
    {
      "cell_type": "markdown",
      "source": [
        "#Criando uma cópia para transformações - Tratando dados nulos"
      ],
      "metadata": {
        "id": "htLr4D5vSikF"
      }
    },
    {
      "cell_type": "code",
      "source": [
        "df_copia = df.copy()"
      ],
      "metadata": {
        "id": "abhCbMQQSf_H"
      },
      "execution_count": null,
      "outputs": []
    },
    {
      "cell_type": "code",
      "source": [
        "# Corrigir os valores no formato HH:MM:SS.0000000 para HH:MM:SS\n",
        "df_copia['HORA_OCORRENCIA'] = df_copia['HORA_OCORRENCIA'].apply(lambda x: str(x).split('.')[0] if isinstance(x, str) else x)\n"
      ],
      "metadata": {
        "id": "BJZv-H2vNOTN"
      },
      "execution_count": null,
      "outputs": []
    },
    {
      "cell_type": "code",
      "source": [
        "#Mudando o tipo de dado da coluna \"HORA_OCORRENCIA\" para DateTime.\n",
        "df_copia[\"HORA_OCORRENCIA\"] = pd.to_datetime(df_copia[\"HORA_OCORRENCIA\"], format='%H:%M:%S', errors='coerce').dt.time\n"
      ],
      "metadata": {
        "id": "Mr8ZCoLY8waD"
      },
      "execution_count": null,
      "outputs": []
    },
    {
      "cell_type": "code",
      "source": [
        "#Colunas \"HORA_OCORRENCIA\" e \"DESCR_PERIODO\" se complementam, é possivel preencher valores nulos relacionando ambas.\n",
        "# Função para preencher \"DESCR_PERIODO\" com base na \"HORA_OCORRENCIA\".\n",
        "def determinar_periodo(hora):\n",
        "    if pd.isnull(hora):\n",
        "        return \"Em hora incerta\"\n",
        "    hora = pd.to_datetime(hora, format='%H:%M:%S').time()\n",
        "    if hora >= pd.to_datetime(\"00:00:00\", format='%H:%M:%S').time() and hora <= pd.to_datetime(\"05:59:59\", format='%H:%M:%S').time():\n",
        "        return \"De madrugada\"\n",
        "    elif hora >= pd.to_datetime(\"06:00:00\", format='%H:%M:%S').time() and hora <= pd.to_datetime(\"11:59:59\", format='%H:%M:%S').time():\n",
        "        return \"Pela manhã\"\n",
        "    elif hora >= pd.to_datetime(\"12:00:00\", format='%H:%M:%S').time() and hora <= pd.to_datetime(\"17:59:59\", format='%H:%M:%S').time():\n",
        "        return \"A tarde\"\n",
        "    elif hora >= pd.to_datetime(\"18:00:00\", format='%H:%M:%S').time() and hora <= pd.to_datetime(\"23:59:59\", format='%H:%M:%S').time():\n",
        "        return \"A noite\"\n",
        "    else:\n",
        "        return \"Em hora incerta\"\n",
        "\n"
      ],
      "metadata": {
        "id": "2_qjQeb1rgvu"
      },
      "execution_count": null,
      "outputs": []
    },
    {
      "cell_type": "code",
      "source": [
        "# Exceutar função para preencher os valores ausentes de DESCR_PERIODO\n",
        "df_copia[\"DESCR_PERIODO\"] = df_copia.apply(\n",
        "    lambda row: determinar_periodo(row[\"HORA_OCORRENCIA\"]) if pd.isnull(row[\"DESCR_PERIODO\"]) else row[\"DESCR_PERIODO\"],\n",
        "    axis=1\n",
        ")\n"
      ],
      "metadata": {
        "id": "kjzIQtPOUU3x"
      },
      "execution_count": null,
      "outputs": []
    },
    {
      "cell_type": "code",
      "source": [
        "# Função para preencher \"HORA_OCORRENCIA\" com base na \"DESCR_PERIODO\".\n",
        "def mapear_hora(periodo):\n",
        "    if periodo == \"A noite\":\n",
        "        return \"22:00:00\"\n",
        "    elif periodo == \"A tarde\":\n",
        "        return \"15:00:00\"\n",
        "    elif periodo == \"De madrugada\":\n",
        "        return \"03:00:00\"\n",
        "    elif periodo == \"Pela manhã\":\n",
        "        return \"09:00:00\"\n",
        "    else:\n",
        "        return None"
      ],
      "metadata": {
        "id": "7UGMnliP9hON"
      },
      "execution_count": null,
      "outputs": []
    },
    {
      "cell_type": "code",
      "source": [
        "#Aplicar função\n",
        "df_copia['HORA_OCORRENCIA'] = df_copia.apply(\n",
        "    lambda row: mapear_hora(row['DESCR_PERIODO']) if pd.isna(row['HORA_OCORRENCIA']) else row['HORA_OCORRENCIA'],\n",
        "    axis=1\n",
        ")"
      ],
      "metadata": {
        "id": "czzxNYbCNxuE"
      },
      "execution_count": null,
      "outputs": []
    },
    {
      "cell_type": "code",
      "source": [
        "#Excluir colunas com alto percentual de valores nulos\n",
        "df_copia = df_copia.drop(columns=['TIPO_INTOLERANCIA', 'DESDOBRAMENTO', 'CIRCUNSTANCIA', 'DESCR_UNIDADE'])"
      ],
      "metadata": {
        "id": "YpAC5iGjBmzU"
      },
      "execution_count": null,
      "outputs": []
    },
    {
      "cell_type": "code",
      "source": [
        "# Excluir linhas onde as colunas especificadas possuem menos de 5% de valores nulos.\n",
        "df_copia = df_copia.dropna(subset=['HORA_OCORRENCIA', 'DATAHORA_IMPRESSAO_BO', 'DESCR_TIPOLOCAL', 'DESCR_SUBTIPOLOCAL', 'BAIRRO', 'MARCA_OBJETO'])"
      ],
      "metadata": {
        "id": "K20gsR__EKnA"
      },
      "execution_count": null,
      "outputs": []
    },
    {
      "cell_type": "code",
      "source": [
        "# Coluna 'DESCR_CONDUTA' substituir por Não especificado.\n",
        "df_copia['DESCR_CONDUTA'] = df_copia['DESCR_CONDUTA'].fillna('Não especificado')"
      ],
      "metadata": {
        "id": "y_78d1048XG8"
      },
      "execution_count": null,
      "outputs": []
    },
    {
      "cell_type": "code",
      "source": [
        "# Coluna 'NUMERO_LOGRADOURO' substituir por valor padrão '10' uma vez que o numero não é importante para análise, mas sim, a região.\n",
        "df_copia['NUMERO_LOGRADOURO'] = df_copia['NUMERO_LOGRADOURO'].fillna('10')"
      ],
      "metadata": {
        "id": "5N_Edz7o-vWj"
      },
      "execution_count": null,
      "outputs": []
    },
    {
      "cell_type": "code",
      "source": [
        "# Contando valores 'FLAG_BLOQUEIO' e 'FLAG_DESBLOQUEIO'\n",
        "contagem1 = df_copia['FLAG_BLOQUEIO'].value_counts(dropna=False)\n",
        "contagem2 = df_copia['FLAG_DESBLOQUEIO'].value_counts(dropna=False)\n",
        "\n",
        "# Exibir contagem\n",
        "print(contagem1)\n",
        "print(contagem2)"
      ],
      "metadata": {
        "colab": {
          "base_uri": "https://localhost:8080/"
        },
        "id": "gDO3B1bVAhm-",
        "outputId": "2c1372e5-cbe0-41ac-e33b-ee439573af60"
      },
      "execution_count": null,
      "outputs": [
        {
          "output_type": "stream",
          "name": "stdout",
          "text": [
            "FLAG_BLOQUEIO\n",
            "S      163994\n",
            "N       70646\n",
            "NaN     18377\n",
            "Name: count, dtype: int64\n",
            "FLAG_DESBLOQUEIO\n",
            "N      234253\n",
            "NaN     18377\n",
            "S         387\n",
            "Name: count, dtype: int64\n"
          ]
        }
      ]
    },
    {
      "cell_type": "code",
      "source": [
        "# Optar pela inclusão da MODA.\n",
        "moda_bloqueio = df_copia['FLAG_BLOQUEIO'].mode()[0]\n",
        "moda_desbloqueio = df_copia['FLAG_DESBLOQUEIO'].mode()[0]\n",
        "\n",
        "df_copia['FLAG_DESBLOQUEIO'] = df_copia['FLAG_DESBLOQUEIO'].fillna(moda_desbloqueio)\n",
        "df_copia['FLAG_BLOQUEIO'] = df_copia['FLAG_BLOQUEIO'].fillna(moda_bloqueio)"
      ],
      "metadata": {
        "id": "HD9lVatWBxkH"
      },
      "execution_count": null,
      "outputs": []
    },
    {
      "cell_type": "code",
      "source": [
        "# Coluna 'CEP' substituir por valor padrão '99999999' temos colunas mais importantes para análise, metodo api não seria viavel.\n",
        "df_copia['CEP'] = df_copia['CEP'].fillna('99999999')"
      ],
      "metadata": {
        "id": "0GFH6y_xTGX-"
      },
      "execution_count": null,
      "outputs": []
    },
    {
      "cell_type": "code",
      "source": [
        "# Calcular a média de LATITUDE e LONGITUDE para cada CIDADE (Poderia usar bairros, mas existem bairros sem lat e lon)\n",
        "medias = df_copia.groupby('CIDADE')[['LATITUDE', 'LONGITUDE']].mean()\n",
        "\n",
        "# Substituir os valores nulos na coluna LATITUDE\n",
        "df_copia['LATITUDE'] = df_copia.apply(\n",
        "    lambda row: medias.loc[row['CIDADE'], 'LATITUDE'] if pd.isnull(row['LATITUDE']) else row['LATITUDE'], axis=1\n",
        ")\n",
        "\n",
        "# Substituir os valores nulos na coluna LONGITUDE\n",
        "df_copia['LONGITUDE'] = df_copia.apply(\n",
        "    lambda row: medias.loc[row['CIDADE'], 'LONGITUDE'] if pd.isnull(row['LONGITUDE']) else row['LONGITUDE'], axis=1\n",
        "    )"
      ],
      "metadata": {
        "id": "d6NeEZbgXbeR"
      },
      "execution_count": null,
      "outputs": []
    },
    {
      "cell_type": "code",
      "source": [
        "# Verificar linhas duplicadas\n",
        "duplicadas = df_copia.duplicated().sum()\n",
        "print(f\"Número de linhas duplicadas: {duplicadas}\")"
      ],
      "metadata": {
        "colab": {
          "base_uri": "https://localhost:8080/"
        },
        "id": "bVSTzq2NcvVs",
        "outputId": "39222beb-af38-4a39-c33a-a217feffda68"
      },
      "execution_count": null,
      "outputs": [
        {
          "output_type": "stream",
          "name": "stdout",
          "text": [
            "Número de linhas duplicadas: 18520\n"
          ]
        }
      ]
    },
    {
      "cell_type": "code",
      "source": [
        "# Excluindo linhas duplicadas\n",
        "df_copia = df_copia.drop_duplicates()"
      ],
      "metadata": {
        "id": "CV-VBK0Kd_Wm"
      },
      "execution_count": null,
      "outputs": []
    },
    {
      "cell_type": "code",
      "source": [
        "df_copia.info()\n"
      ],
      "metadata": {
        "id": "Hf76BWcVELi1",
        "colab": {
          "base_uri": "https://localhost:8080/"
        },
        "outputId": "b4c9a366-1ba0-4b19-b050-2b635470778e"
      },
      "execution_count": null,
      "outputs": [
        {
          "output_type": "stream",
          "name": "stdout",
          "text": [
            "<class 'pandas.core.frame.DataFrame'>\n",
            "Index: 234497 entries, 0 to 266332\n",
            "Data columns (total 47 columns):\n",
            " #   Column                  Non-Null Count   Dtype         \n",
            "---  ------                  --------------   -----         \n",
            " 0   ID_DELEGACIA            234497 non-null  int64         \n",
            " 1   NOME_DEPARTAMENTO       234497 non-null  object        \n",
            " 2   NOME_SECCIONAL          234497 non-null  object        \n",
            " 3   NOME_DELEGACIA          234497 non-null  object        \n",
            " 4   NOME_MUNICIPIO          234497 non-null  object        \n",
            " 5   ANO_BO                  234497 non-null  int64         \n",
            " 6   NUM_BO                  234497 non-null  object        \n",
            " 7   VERSAO                  234497 non-null  int64         \n",
            " 8   NOME_DEPARTAMENTO_CIRC  234497 non-null  object        \n",
            " 9   NOME_SECCIONAL_CIRC     234497 non-null  object        \n",
            " 10  NOME_DELEGACIA_CIRC     234497 non-null  object        \n",
            " 11  NOME_MUNICIPIO_CIRC     234497 non-null  object        \n",
            " 12  DATA_OCORRENCIA_BO      234497 non-null  datetime64[ns]\n",
            " 13  HORA_OCORRENCIA         234497 non-null  object        \n",
            " 14  DESCRICAO_APRESENTACAO  234497 non-null  object        \n",
            " 15  DATAHORA_REGISTRO_BO    234497 non-null  datetime64[ns]\n",
            " 16  DATA_COMUNICACAO_BO     234497 non-null  datetime64[ns]\n",
            " 17  DATAHORA_IMPRESSAO_BO   234497 non-null  datetime64[ns]\n",
            " 18  DESCR_PERIODO           234497 non-null  object        \n",
            " 19  AUTORIA_BO              234497 non-null  object        \n",
            " 20  FLAG_INTOLERANCIA       234497 non-null  object        \n",
            " 21  FLAG_FLAGRANTE          234497 non-null  object        \n",
            " 22  FLAG_STATUS             234497 non-null  object        \n",
            " 23  DESC_LEI                234497 non-null  object        \n",
            " 24  FLAG_ATO_INFRACIONAL    234497 non-null  object        \n",
            " 25  RUBRICA                 234497 non-null  object        \n",
            " 26  DESCR_CONDUTA           234497 non-null  object        \n",
            " 27  DESCR_TIPOLOCAL         234497 non-null  object        \n",
            " 28  DESCR_SUBTIPOLOCAL      234497 non-null  object        \n",
            " 29  CIDADE                  234497 non-null  object        \n",
            " 30  BAIRRO                  234497 non-null  object        \n",
            " 31  CEP                     234497 non-null  object        \n",
            " 32  LOGRADOURO_VERSAO       234497 non-null  int64         \n",
            " 33  LOGRADOURO              234497 non-null  object        \n",
            " 34  NUMERO_LOGRADOURO       234497 non-null  object        \n",
            " 35  LATITUDE                234497 non-null  float64       \n",
            " 36  LONGITUDE               234497 non-null  float64       \n",
            " 37  CONT_OBJETO             234497 non-null  int64         \n",
            " 38  DESCR_MODO_OBJETO       234497 non-null  object        \n",
            " 39  DESCR_TIPO_OBJETO       234497 non-null  object        \n",
            " 40  DESCR_SUBTIPO_OBJETO    234497 non-null  object        \n",
            " 41  QUANTIDADE_OBJETO       234497 non-null  int64         \n",
            " 42  MARCA_OBJETO            234497 non-null  object        \n",
            " 43  FLAG_BLOQUEIO           234497 non-null  object        \n",
            " 44  FLAG_DESBLOQUEIO        234497 non-null  object        \n",
            " 45  MES                     234497 non-null  int64         \n",
            " 46  ANO                     234497 non-null  int64         \n",
            "dtypes: datetime64[ns](4), float64(2), int64(8), object(33)\n",
            "memory usage: 85.9+ MB\n"
          ]
        }
      ]
    },
    {
      "cell_type": "code",
      "source": [
        "df_copia.to_excel('arquivo_limpo.xlsx', index=False)"
      ],
      "metadata": {
        "id": "N0o4vTvflGrO"
      },
      "execution_count": null,
      "outputs": []
    }
  ]
}